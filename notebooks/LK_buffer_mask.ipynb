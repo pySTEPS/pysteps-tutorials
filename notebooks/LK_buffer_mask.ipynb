{
 "cells": [
  {
   "cell_type": "code",
   "execution_count": null,
   "metadata": {},
   "outputs": [],
   "source": [
    "%matplotlib inline"
   ]
  },
  {
   "cell_type": "markdown",
   "metadata": {},
   "source": [
    "\n",
    "# Handling of no-data in Lucas-Kanade\n",
    "\n",
    "Areas of missing data in radar images are typically caused by visibility limits\n",
    "such as beam blockage and the radar coverage itself. These artifacts can mislead\n",
    "the echo tracking algorithms. For instance, precipitation leaving the domain\n",
    "might be erroneously detected as having nearly stationary velocity.\n",
    "\n",
    "This example shows how the Lucas-Kanade algorithm can be tuned to avoid the\n",
    "erroneous interpretation of velocities near the maximum range of the radars by\n",
    "buffering the no-data mask in the radar image in order to exclude all vectors\n",
    "detected nearby no-data areas.\n"
   ]
  },
  {
   "cell_type": "code",
   "execution_count": null,
   "metadata": {},
   "outputs": [],
   "source": [
    "from datetime import datetime\n",
    "from matplotlib import cm, colors\n",
    "\n",
    "import matplotlib.pyplot as plt\n",
    "import numpy as np\n",
    "\n",
    "from pysteps import io, motion, nowcasts, rcparams, verification\n",
    "from pysteps.utils import conversion, transformation\n",
    "from pysteps.visualization import plot_precip_field, quiver"
   ]
  },
  {
   "cell_type": "markdown",
   "metadata": {},
   "source": [
    "## Read the radar input images\n",
    "\n",
    "First, we will import the sequence of radar composites.\n",
    "You need the pysteps-data archive downloaded and the pystepsrc file\n",
    "configured with the data_source paths pointing to data folders.\n",
    "\n"
   ]
  },
  {
   "cell_type": "code",
   "execution_count": null,
   "metadata": {},
   "outputs": [],
   "source": [
    "# Selected case\n",
    "date = datetime.strptime(\"201607112100\", \"%Y%m%d%H%M\")\n",
    "data_source = rcparams.data_sources[\"mch\"]"
   ]
  },
  {
   "cell_type": "markdown",
   "metadata": {},
   "source": [
    "### Load the data from the archive\n",
    "\n"
   ]
  },
  {
   "cell_type": "code",
   "execution_count": null,
   "metadata": {},
   "outputs": [],
   "source": [
    "root_path = data_source[\"root_path\"]\n",
    "path_fmt = data_source[\"path_fmt\"]\n",
    "fn_pattern = data_source[\"fn_pattern\"]\n",
    "fn_ext = data_source[\"fn_ext\"]\n",
    "importer_name = data_source[\"importer\"]\n",
    "importer_kwargs = data_source[\"importer_kwargs\"]\n",
    "timestep = data_source[\"timestep\"]\n",
    "\n",
    "# Find the two input files from the archive\n",
    "fns = io.archive.find_by_date(\n",
    "    date, root_path, path_fmt, fn_pattern, fn_ext, timestep=5, num_prev_files=1\n",
    ")\n",
    "\n",
    "# Read the radar composites\n",
    "importer = io.get_method(importer_name, \"importer\")\n",
    "R, quality, metadata = io.read_timeseries(fns, importer, **importer_kwargs)\n",
    "\n",
    "del quality  # Not used"
   ]
  },
  {
   "cell_type": "markdown",
   "metadata": {},
   "source": [
    "### Preprocess the data\n",
    "\n"
   ]
  },
  {
   "cell_type": "code",
   "execution_count": null,
   "metadata": {},
   "outputs": [],
   "source": [
    "# Convert to mm/h\n",
    "R, metadata = conversion.to_rainrate(R, metadata)\n",
    "\n",
    "# Keep the reference frame in mm/h and its mask (for plotting purposes)\n",
    "ref_mm = R[0, :, :].copy()\n",
    "mask = np.ones(ref_mm.shape)\n",
    "mask[~np.isnan(ref_mm)] = np.nan\n",
    "\n",
    "# Log-transform the data [dBR]\n",
    "R, metadata = transformation.dB_transform(R, metadata, threshold=0.1, zerovalue=-15.0)\n",
    "\n",
    "# Keep the reference frame in dBR (for plotting purposes)\n",
    "ref_dbr = R[0].copy()\n",
    "ref_dbr[ref_dbr < -10] = np.nan\n",
    "\n",
    "# Plot the reference field\n",
    "plot_precip_field(ref_mm, title=\"Reference field\")\n",
    "circle = plt.Circle((620, 400), 100, color=\"b\", clip_on=False, fill=False)\n",
    "plt.gca().add_artist(circle)\n",
    "plt.show()"
   ]
  },
  {
   "cell_type": "markdown",
   "metadata": {},
   "source": [
    "Notice the \"half-in, half-out\" precipitation area within the blue circle.\n",
    "As we are going to show next, the tracking algorithm can erroneously interpret\n",
    "precipitation leaving the domain as stationary motion.\n",
    "\n",
    "Also note that the radar image includes NaNs in areas of missing data.\n",
    "These are used by the optical flow algorithm to define the radar mask.\n",
    "\n",
    "## Sparse Lucas-Kanade\n",
    "\n",
    "By setting the optional argument ``dense=False`` in ``xy, uv = dense_lucaskanade(...)``,\n",
    "the LK algorithm returns the motion vectors detected by the Lucas-Kanade scheme\n",
    "without interpolating them on the grid.\n",
    "This allows us to better identify the presence of wrongly detected\n",
    "stationary motion in areas where precipitation is leaving the domain (look\n",
    "for the red dots within the blue circle in the figure below).\n",
    "\n"
   ]
  },
  {
   "cell_type": "code",
   "execution_count": null,
   "metadata": {},
   "outputs": [],
   "source": [
    "# Get Lucas-Kanade optical flow method\n",
    "dense_lucaskanade = motion.get_method(\"LK\")\n",
    "\n",
    "# Mask invalid values\n",
    "R = np.ma.masked_invalid(R)\n",
    "\n",
    "# Use no buffering of the radar mask\n",
    "fd_kwargs1 = {\"buffer_mask\": 0}\n",
    "xy, uv = dense_lucaskanade(R, dense=False, fd_kwargs=fd_kwargs1)\n",
    "plt.imshow(ref_dbr, cmap=plt.get_cmap(\"Greys\"))\n",
    "plt.imshow(mask, cmap=colors.ListedColormap([\"black\"]), alpha=0.5)\n",
    "plt.quiver(\n",
    "    xy[:, 0],\n",
    "    xy[:, 1],\n",
    "    uv[:, 0],\n",
    "    uv[:, 1],\n",
    "    color=\"red\",\n",
    "    angles=\"xy\",\n",
    "    scale_units=\"xy\",\n",
    "    scale=0.2,\n",
    ")\n",
    "circle = plt.Circle((620, 245), 100, color=\"b\", clip_on=False, fill=False)\n",
    "plt.gca().add_artist(circle)\n",
    "plt.title(\"buffer_mask = 0\")\n",
    "plt.show()"
   ]
  },
  {
   "cell_type": "markdown",
   "metadata": {},
   "source": [
    "The LK algorithm cannot distinguish missing values from no precipitation, that is,\n",
    "no-data are the same as no-echoes. As a result, the fixed boundaries produced\n",
    "by precipitation in contact with no-data areas are interpreted as stationary motion.\n",
    "One way to mitigate this effect of the boundaries is to introduce a slight buffer\n",
    "of the no-data mask so that the algorithm will ignore all the portions of the\n",
    "radar domain that are nearby no-data areas.\n",
    "This buffer can be set by the keyword argument ``buffer_mask`` within the\n",
    "feature detection optional arguments ``fd_kwargs``.\n",
    "Note that by default ``dense_lucaskanade`` uses a 5-pixel buffer.\n",
    "\n"
   ]
  },
  {
   "cell_type": "code",
   "execution_count": null,
   "metadata": {},
   "outputs": [],
   "source": [
    "# with buffer\n",
    "buffer = 10\n",
    "fd_kwargs2 = {\"buffer_mask\": buffer}\n",
    "xy, uv = dense_lucaskanade(R, dense=False, fd_kwargs=fd_kwargs2)\n",
    "plt.imshow(ref_dbr, cmap=plt.get_cmap(\"Greys\"))\n",
    "plt.imshow(mask, cmap=colors.ListedColormap([\"black\"]), alpha=0.5)\n",
    "plt.quiver(\n",
    "    xy[:, 0],\n",
    "    xy[:, 1],\n",
    "    uv[:, 0],\n",
    "    uv[:, 1],\n",
    "    color=\"red\",\n",
    "    angles=\"xy\",\n",
    "    scale_units=\"xy\",\n",
    "    scale=0.2,\n",
    ")\n",
    "circle = plt.Circle((620, 245), 100, color=\"b\", clip_on=False, fill=False)\n",
    "plt.gca().add_artist(circle)\n",
    "plt.title(\"buffer_mask = %i\" % buffer)\n",
    "plt.show()"
   ]
  },
  {
   "cell_type": "markdown",
   "metadata": {},
   "source": [
    "## Dense Lucas-Kanade\n",
    "\n",
    "The above displacement vectors produced by the Lucas-Kanade method are now\n",
    "interpolated to produce a full field of motion (i.e., ``dense=True``).\n",
    "By comparing the velocity of the motion fields, we can easily notice\n",
    "the negative bias that is introduced by the the erroneous interpretation of\n",
    "velocities near the maximum range of the radars.\n",
    "\n"
   ]
  },
  {
   "cell_type": "code",
   "execution_count": null,
   "metadata": {},
   "outputs": [],
   "source": [
    "UV1 = dense_lucaskanade(R, dense=True, fd_kwargs=fd_kwargs1)\n",
    "UV2 = dense_lucaskanade(R, dense=True, fd_kwargs=fd_kwargs2)\n",
    "\n",
    "V1 = np.sqrt(UV1[0] ** 2 + UV1[1] ** 2)\n",
    "V2 = np.sqrt(UV2[0] ** 2 + UV2[1] ** 2)\n",
    "\n",
    "plt.imshow((V1 - V2) / V2, cmap=cm.RdBu_r, vmin=-0.5, vmax=0.5)\n",
    "plt.colorbar(fraction=0.04, pad=0.04)\n",
    "plt.title(\"Relative difference in motion speed\")\n",
    "plt.show()"
   ]
  },
  {
   "cell_type": "markdown",
   "metadata": {},
   "source": [
    "Notice how the presence of erroneous velocity vectors produces a significantly\n",
    "slower motion field near the right edge of the domain.\n",
    "\n",
    "## Forecast skill\n",
    "\n",
    "We are now going to evaluate the benefit of buffering the radar mask by computing\n",
    "the forecast skill in terms of the Spearman correlation coefficient.\n",
    "The extrapolation forecasts are computed using the dense UV motion fields\n",
    "estimated above.\n",
    "\n"
   ]
  },
  {
   "cell_type": "code",
   "execution_count": null,
   "metadata": {},
   "outputs": [],
   "source": [
    "# Get the advection routine and extrapolate the last radar frame by 12 time steps\n",
    "# (i.e., 1 hour lead time)\n",
    "extrapolate = nowcasts.get_method(\"extrapolation\")\n",
    "R[~np.isfinite(R)] = metadata[\"zerovalue\"]\n",
    "R_f1 = extrapolate(R[-1], UV1, 12)\n",
    "R_f2 = extrapolate(R[-1], UV2, 12)\n",
    "\n",
    "# Back-transform to rain rate\n",
    "R_f1 = transformation.dB_transform(R_f1, threshold=-10.0, inverse=True)[0]\n",
    "R_f2 = transformation.dB_transform(R_f2, threshold=-10.0, inverse=True)[0]\n",
    "\n",
    "# Find the veriyfing observations in the archive\n",
    "fns = io.archive.find_by_date(\n",
    "    date, root_path, path_fmt, fn_pattern, fn_ext, timestep=5, num_next_files=12\n",
    ")\n",
    "\n",
    "# Read and convert the radar composites\n",
    "R_o, _, metadata_o = io.read_timeseries(fns, importer, **importer_kwargs)\n",
    "R_o, metadata_o = conversion.to_rainrate(R_o, metadata_o)\n",
    "\n",
    "# Compute Spearman correlation\n",
    "skill = verification.get_method(\"corr_s\")\n",
    "score_1 = []\n",
    "score_2 = []\n",
    "for i in range(12):\n",
    "    score_1.append(skill(R_f1[i, :, :], R_o[i + 1, :, :])[\"corr_s\"])\n",
    "    score_2.append(skill(R_f2[i, :, :], R_o[i + 1, :, :])[\"corr_s\"])\n",
    "\n",
    "x = (np.arange(12) + 1) * 5  # [min]\n",
    "plt.plot(x, score_1, label=\"buffer_mask = 0\")\n",
    "plt.plot(x, score_2, label=\"buffer_mask = %i\" % buffer)\n",
    "plt.legend()\n",
    "plt.xlabel(\"Lead time [min]\")\n",
    "plt.ylabel(\"Corr. coeff. []\")\n",
    "plt.title(\"Spearman correlation\")\n",
    "\n",
    "plt.tight_layout()\n",
    "plt.show()"
   ]
  },
  {
   "cell_type": "markdown",
   "metadata": {},
   "source": [
    "As expected, the corrected motion field produces better forecast skill already\n",
    "within the first hour into the nowcast.\n",
    "\n"
   ]
  },
  {
   "cell_type": "code",
   "execution_count": null,
   "metadata": {},
   "outputs": [],
   "source": [
    "# sphinx_gallery_thumbnail_number = 2"
   ]
  }
 ],
 "metadata": {
  "kernelspec": {
   "display_name": "Python 3",
   "language": "python",
   "name": "python3"
  },
  "language_info": {
   "codemirror_mode": {
    "name": "ipython",
    "version": 3
   },
   "file_extension": ".py",
   "mimetype": "text/x-python",
   "name": "python",
   "nbconvert_exporter": "python",
   "pygments_lexer": "ipython3",
   "version": "3.10.1"
  }
 },
 "nbformat": 4,
 "nbformat_minor": 0
}
