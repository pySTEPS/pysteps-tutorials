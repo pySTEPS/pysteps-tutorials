{
 "cells": [
  {
   "cell_type": "code",
   "execution_count": null,
   "metadata": {},
   "outputs": [],
   "source": [
    "%matplotlib inline"
   ]
  },
  {
   "cell_type": "markdown",
   "metadata": {},
   "source": [
    "\n",
    "# Thunderstorm Detection and Tracking - T-DaTing\n",
    "\n",
    "This example shows how to use the thunderstorm DaTing module. The example is based on\n",
    "MeteoSwiss radar data and uses the Cartesian composite of maximum reflectivity on a\n",
    "1 km grid. All default values are tuned to this grid, but can be modified.\n",
    "The first section demonstrates thunderstorm cell detection and how to plot contours.\n",
    "The second section demonstrates detection and tracking in combination,\n",
    "as well as how to plot the resulting tracks.\n",
    "This module was implemented following the procedures used in the TRT Thunderstorms\n",
    "Radar Tracking algorithm (:cite:`TRT2004`) used operationally at MeteoSwiss.\n",
    "Modifications include advecting the identified thunderstorms with the optical flow\n",
    "obtained from pysteps, as well as additional options in the thresholding. A detailed\n",
    "description is published in Appendix A of :cite:`Feldmann2021`.\n",
    "\n",
    "## References\n",
    ":cite:`TRT2004`\n",
    ":cite:`Feldmann2021`\n",
    "\n",
    "@author: feldmann-m\n"
   ]
  },
  {
   "cell_type": "markdown",
   "metadata": {},
   "source": [
    "### Import all required functions\n",
    "\n"
   ]
  },
  {
   "cell_type": "code",
   "execution_count": null,
   "metadata": {},
   "outputs": [],
   "source": [
    "from datetime import datetime\n",
    "from pprint import pprint\n",
    "\n",
    "import matplotlib.pyplot as plt\n",
    "import numpy as np\n",
    "\n",
    "from pysteps import io, rcparams\n",
    "from pysteps.feature import tstorm as tstorm_detect\n",
    "from pysteps.tracking import tdating as tstorm_dating\n",
    "from pysteps.utils import to_reflectivity\n",
    "from pysteps.visualization import plot_precip_field, plot_track, plot_cart_contour"
   ]
  },
  {
   "cell_type": "markdown",
   "metadata": {},
   "source": [
    "### Read the radar input images\n",
    "\n",
    "A series of 20 files containing Swiss Cartesian gridded rain rates are imported. Since\n",
    "the algorithm is tuned to Swiss max-reflectivity data, the rain rates are transformed\n",
    "to reflectivity fields using the 'to_reflectivity' utility in pysteps.utils.\n",
    "\n"
   ]
  },
  {
   "cell_type": "code",
   "execution_count": null,
   "metadata": {},
   "outputs": [],
   "source": [
    "# Select the input data\n",
    "date = datetime.strptime(\"201607112100\", \"%Y%m%d%H%M\")\n",
    "data_source = rcparams.data_sources[\"mch\"]\n",
    "\n",
    "# Extract corresponding settings\n",
    "root_path = data_source[\"root_path\"]\n",
    "path_fmt = data_source[\"path_fmt\"]\n",
    "fn_pattern = data_source[\"fn_pattern\"]\n",
    "fn_ext = data_source[\"fn_ext\"]\n",
    "importer_name = data_source[\"importer\"]\n",
    "importer_kwargs = data_source[\"importer_kwargs\"]\n",
    "timestep = data_source[\"timestep\"]\n",
    "\n",
    "# Load the data from the archive\n",
    "fns = io.archive.find_by_date(\n",
    "    date, root_path, path_fmt, fn_pattern, fn_ext, timestep, num_next_files=20\n",
    ")\n",
    "importer = io.get_method(importer_name, \"importer\")\n",
    "R, _, metadata = io.read_timeseries(fns, importer, **importer_kwargs)\n",
    "\n",
    "# Convert to reflectivity (it is possible to give the a- and b- parameters of the\n",
    "# Marshall-Palmer relationship here: zr_a = and zr_b =).\n",
    "Z, metadata = to_reflectivity(R, metadata)\n",
    "\n",
    "# Extract the list of timestamps\n",
    "timelist = metadata[\"timestamps\"]\n",
    "\n",
    "pprint(metadata)"
   ]
  },
  {
   "cell_type": "markdown",
   "metadata": {},
   "source": [
    "### Example of thunderstorm identification in a single timestep\n",
    "The function tstorm_detect.detection requires a 2-D input image, all further inputs are\n",
    "optional.\n",
    "\n"
   ]
  },
  {
   "cell_type": "code",
   "execution_count": null,
   "metadata": {},
   "outputs": [],
   "source": [
    "input_image = Z[2, :, :].copy()\n",
    "time = timelist[2]\n",
    "cells_id, labels = tstorm_detect.detection(input_image, time=time)"
   ]
  },
  {
   "cell_type": "markdown",
   "metadata": {},
   "source": [
    "Properties of one of the identified cells:\n",
    "\n"
   ]
  },
  {
   "cell_type": "code",
   "execution_count": null,
   "metadata": {},
   "outputs": [],
   "source": [
    "print(cells_id.iloc[0])"
   ]
  },
  {
   "cell_type": "markdown",
   "metadata": {},
   "source": [
    "### Example of thunderstorm tracking over a timeseries\n",
    "The tstorm-dating function requires the entire pre-loaded time series.\n",
    "The first two timesteps are required to initialize the\n",
    "flow prediction and are not used to compute tracks.\n",
    "\n"
   ]
  },
  {
   "cell_type": "code",
   "execution_count": null,
   "metadata": {},
   "outputs": [],
   "source": [
    "track_list, cell_list, label_list = tstorm_dating.dating(\n",
    "    input_video=Z, timelist=timelist\n",
    ")"
   ]
  },
  {
   "cell_type": "markdown",
   "metadata": {},
   "source": [
    "### Plotting the results\n",
    "\n"
   ]
  },
  {
   "cell_type": "code",
   "execution_count": null,
   "metadata": {},
   "outputs": [],
   "source": [
    "# Plot precipitation field\n",
    "plot_precip_field(Z[2, :, :], geodata=metadata, units=metadata[\"unit\"])\n",
    "plt.xlabel(\"Swiss easting [m]\")\n",
    "plt.ylabel(\"Swiss northing [m]\")\n",
    "\n",
    "# Add the identified cells\n",
    "plot_cart_contour(cells_id.cont, geodata=metadata)\n",
    "\n",
    "# Filter the tracks to only contain cells existing in this timestep\n",
    "IDs = cells_id.ID.values\n",
    "track_filt = []\n",
    "for track in track_list:\n",
    "    if np.unique(track.ID) in IDs:\n",
    "        track_filt.append(track)\n",
    "\n",
    "# Add their tracks\n",
    "plot_track(track_filt, geodata=metadata)\n",
    "plt.show()"
   ]
  },
  {
   "cell_type": "markdown",
   "metadata": {},
   "source": [
    "### Evaluating temporal behaviour of cell\n",
    "Maximum reflectivity of cells in time\n",
    "\n"
   ]
  },
  {
   "cell_type": "code",
   "execution_count": null,
   "metadata": {},
   "outputs": [],
   "source": [
    "# Make an empty list\n",
    "tlen = []\n",
    "# Get a list of colors that we will use for the plot\n",
    "color = iter(plt.cm.ocean(np.linspace(0, 0.8, len(track_filt))))\n",
    "# Now, loop through all the tracks and plot the maximum reflectivity of the cell\n",
    "# in time.\n",
    "for track in track_filt:\n",
    "    plt.plot(np.arange(len(track)), track.max_ref, c=next(color))\n",
    "    tlen.append(len(track))\n",
    "plt.xticks(np.arange(max(tlen) + 1), labels=np.arange(max(tlen) + 1) * 5)\n",
    "plt.ylabel(\"Maximum reflectivity (dBZ)\")\n",
    "plt.xlabel(\"Time since cell detection (min)\")\n",
    "plt.legend(IDs, loc=\"lower right\", ncol=3, title=\"Track number\")\n",
    "plt.show()"
   ]
  },
  {
   "cell_type": "markdown",
   "metadata": {},
   "source": [
    "The size of the thunderstorm cells in time\n",
    "\n"
   ]
  },
  {
   "cell_type": "code",
   "execution_count": null,
   "metadata": {},
   "outputs": [],
   "source": [
    "# Make an empty list\n",
    "tlen = []\n",
    "# Get a list of colors that we will use for the plot\n",
    "color = iter(plt.cm.ocean(np.linspace(0, 0.8, len(track_filt))))\n",
    "# Now, loop through all the tracks and plot the cell size of the thunderstorms\n",
    "# in time.\n",
    "for track in track_filt:\n",
    "    size = []\n",
    "    for ID, t in track.iterrows():\n",
    "        size.append(len(t.x))\n",
    "    plt.plot(np.arange(len(track)), size, c=next(color))\n",
    "    tlen.append(len(track))\n",
    "plt.xticks(np.arange(max(tlen) + 1), labels=np.arange(max(tlen) + 1) * 5)\n",
    "plt.ylabel(\"Thunderstorm cell size (pixels)\")\n",
    "plt.xlabel(\"Time since cell detection (min)\")\n",
    "plt.legend(IDs, loc=\"upper left\", ncol=3, title=\"Track number\")\n",
    "plt.show()"
   ]
  }
 ],
 "metadata": {
  "kernelspec": {
   "display_name": "Python 3",
   "language": "python",
   "name": "python3"
  },
  "language_info": {
   "codemirror_mode": {
    "name": "ipython",
    "version": 3
   },
   "file_extension": ".py",
   "mimetype": "text/x-python",
   "name": "python",
   "nbconvert_exporter": "python",
   "pygments_lexer": "ipython3",
   "version": "3.10.1"
  }
 },
 "nbformat": 4,
 "nbformat_minor": 0
}
