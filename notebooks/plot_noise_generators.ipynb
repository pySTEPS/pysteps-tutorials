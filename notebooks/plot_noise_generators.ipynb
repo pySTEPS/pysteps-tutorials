{
 "cells": [
  {
   "cell_type": "code",
   "execution_count": null,
   "metadata": {},
   "outputs": [],
   "source": [
    "%matplotlib inline"
   ]
  },
  {
   "cell_type": "markdown",
   "metadata": {},
   "source": [
    "\n",
    "# Generation of stochastic noise\n",
    "\n",
    "This example script shows how to run the stochastic noise field generators\n",
    "included in pysteps.\n",
    "\n",
    "These noise fields are used as perturbation terms during an extrapolation\n",
    "nowcast in order to represent the uncertainty in the evolution of the rainfall\n",
    "field.\n"
   ]
  },
  {
   "cell_type": "code",
   "execution_count": null,
   "metadata": {},
   "outputs": [],
   "source": [
    "from matplotlib import cm, pyplot as plt\n",
    "import numpy as np\n",
    "import os\n",
    "from pprint import pprint\n",
    "from pysteps import io, rcparams\n",
    "from pysteps.noise.fftgenerators import initialize_param_2d_fft_filter\n",
    "from pysteps.noise.fftgenerators import initialize_nonparam_2d_fft_filter\n",
    "from pysteps.noise.fftgenerators import generate_noise_2d_fft_filter\n",
    "from pysteps.utils import conversion, rapsd, transformation\n",
    "from pysteps.visualization import plot_precip_field, plot_spectrum1d"
   ]
  },
  {
   "cell_type": "markdown",
   "metadata": {},
   "source": [
    "## Read precipitation field\n",
    "\n",
    "First thing,  the radar composite is imported and transformed in units\n",
    "of dB.\n",
    "This image will be used to train the Fourier filters that are necessary to\n",
    "produce the fields of spatially correlated noise.\n",
    "\n"
   ]
  },
  {
   "cell_type": "code",
   "execution_count": null,
   "metadata": {},
   "outputs": [],
   "source": [
    "# Import the example radar composite\n",
    "root_path = rcparams.data_sources[\"mch\"][\"root_path\"]\n",
    "filename = os.path.join(root_path, \"20160711\", \"AQC161932100V_00005.801.gif\")\n",
    "R, _, metadata = io.import_mch_gif(filename, product=\"AQC\", unit=\"mm\", accutime=5.0)\n",
    "\n",
    "# Convert to mm/h\n",
    "R, metadata = conversion.to_rainrate(R, metadata)\n",
    "\n",
    "# Nicely print the metadata\n",
    "pprint(metadata)\n",
    "\n",
    "# Plot the rainfall field\n",
    "plot_precip_field(R, geodata=metadata)\n",
    "plt.show()\n",
    "\n",
    "# Log-transform the data\n",
    "R, metadata = transformation.dB_transform(R, metadata, threshold=0.1, zerovalue=-15.0)\n",
    "\n",
    "# Assign the fill value to all the Nans\n",
    "R[~np.isfinite(R)] = metadata[\"zerovalue\"]"
   ]
  },
  {
   "cell_type": "markdown",
   "metadata": {},
   "source": [
    "## Parametric filter\n",
    "\n",
    "In the parametric approach, a power-law model is used to approximate the power\n",
    "spectral density (PSD) of a given rainfall field.\n",
    "\n",
    "The parametric model uses  a  piece-wise  linear  function  with  two  spectral\n",
    "slopes (beta1 and beta2) and one breaking point\n",
    "\n"
   ]
  },
  {
   "cell_type": "code",
   "execution_count": null,
   "metadata": {},
   "outputs": [],
   "source": [
    "# Fit the parametric PSD to the observation\n",
    "Fp = initialize_param_2d_fft_filter(R)\n",
    "\n",
    "# Compute the observed and fitted 1D PSD\n",
    "L = np.max(Fp[\"input_shape\"])\n",
    "if L % 2 == 1:\n",
    "    wn = np.arange(0, int(L / 2) + 1)\n",
    "else:\n",
    "    wn = np.arange(0, int(L / 2))\n",
    "R_, freq = rapsd(R, fft_method=np.fft, return_freq=True)\n",
    "f = np.exp(Fp[\"model\"](np.log(wn), *Fp[\"pars\"]))\n",
    "\n",
    "# Extract the scaling break in km, beta1 and beta2\n",
    "w0 = L / np.exp(Fp[\"pars\"][0])\n",
    "b1 = Fp[\"pars\"][2]\n",
    "b2 = Fp[\"pars\"][3]\n",
    "\n",
    "# Plot the observed power spectrum and the model\n",
    "fig, ax = plt.subplots()\n",
    "plot_scales = [512, 256, 128, 64, 32, 16, 8, 4]\n",
    "plot_spectrum1d(\n",
    "    freq,\n",
    "    R_,\n",
    "    x_units=\"km\",\n",
    "    y_units=\"dBR\",\n",
    "    color=\"k\",\n",
    "    ax=ax,\n",
    "    label=\"Observed\",\n",
    "    wavelength_ticks=plot_scales,\n",
    ")\n",
    "plot_spectrum1d(\n",
    "    freq,\n",
    "    f,\n",
    "    x_units=\"km\",\n",
    "    y_units=\"dBR\",\n",
    "    color=\"r\",\n",
    "    ax=ax,\n",
    "    label=\"Fit\",\n",
    "    wavelength_ticks=plot_scales,\n",
    ")\n",
    "plt.legend()\n",
    "ax.set_title(\n",
    "    \"Radially averaged log-power spectrum of R\\n\"\n",
    "    r\"$\\omega_0=%.0f km, \\beta_1=%.1f, \\beta_2=%.1f$\" % (w0, b1, b2)\n",
    ")\n",
    "plt.show()"
   ]
  },
  {
   "cell_type": "markdown",
   "metadata": {},
   "source": [
    "## Nonparametric filter\n",
    "\n",
    "In the nonparametric approach,  the Fourier filter is obtained directly\n",
    "from the power spectrum of the observed precipitation field R.\n",
    "\n"
   ]
  },
  {
   "cell_type": "code",
   "execution_count": null,
   "metadata": {},
   "outputs": [],
   "source": [
    "Fnp = initialize_nonparam_2d_fft_filter(R)"
   ]
  },
  {
   "cell_type": "markdown",
   "metadata": {},
   "source": [
    "## Noise generator\n",
    "\n",
    "The parametric and nonparametric filters obtained above can now be used\n",
    "to produce N realizations of random fields of prescribed power spectrum,\n",
    "hence with the same correlation structure as the initial rainfall field.\n",
    "\n"
   ]
  },
  {
   "cell_type": "code",
   "execution_count": null,
   "metadata": {},
   "outputs": [],
   "source": [
    "seed = 42\n",
    "num_realizations = 3\n",
    "\n",
    "# Generate noise\n",
    "Np = []\n",
    "Nnp = []\n",
    "for k in range(num_realizations):\n",
    "    Np.append(generate_noise_2d_fft_filter(Fp, seed=seed + k))\n",
    "    Nnp.append(generate_noise_2d_fft_filter(Fnp, seed=seed + k))\n",
    "\n",
    "# Plot the generated noise fields\n",
    "\n",
    "fig, ax = plt.subplots(nrows=2, ncols=3)\n",
    "\n",
    "# parametric noise\n",
    "ax[0, 0].imshow(Np[0], cmap=cm.RdBu_r, vmin=-3, vmax=3)\n",
    "ax[0, 1].imshow(Np[1], cmap=cm.RdBu_r, vmin=-3, vmax=3)\n",
    "ax[0, 2].imshow(Np[2], cmap=cm.RdBu_r, vmin=-3, vmax=3)\n",
    "\n",
    "# nonparametric noise\n",
    "ax[1, 0].imshow(Nnp[0], cmap=cm.RdBu_r, vmin=-3, vmax=3)\n",
    "ax[1, 1].imshow(Nnp[1], cmap=cm.RdBu_r, vmin=-3, vmax=3)\n",
    "ax[1, 2].imshow(Nnp[2], cmap=cm.RdBu_r, vmin=-3, vmax=3)\n",
    "\n",
    "for i in range(2):\n",
    "    for j in range(3):\n",
    "        ax[i, j].set_xticks([])\n",
    "        ax[i, j].set_yticks([])\n",
    "plt.tight_layout()\n",
    "plt.show()"
   ]
  },
  {
   "cell_type": "markdown",
   "metadata": {},
   "source": [
    "The above figure highlights the main limitation of the parametric approach\n",
    "(top row), that is, the assumption of an isotropic power law scaling\n",
    "relationship, meaning that anisotropic structures such as rainfall bands\n",
    "cannot be represented.\n",
    "\n",
    "Instead, the nonparametric approach (bottom row) allows generating\n",
    "perturbation fields with anisotropic  structures, but it also requires a\n",
    "larger sample size and is sensitive to the quality of the input data, e.g.\n",
    "the presence of residual clutter in the radar image.\n",
    "\n",
    "In addition, both techniques assume spatial stationarity of the covariance\n",
    "structure of the field.\n",
    "\n"
   ]
  },
  {
   "cell_type": "code",
   "execution_count": null,
   "metadata": {},
   "outputs": [],
   "source": [
    "# sphinx_gallery_thumbnail_number = 3"
   ]
  }
 ],
 "metadata": {
  "kernelspec": {
   "display_name": "Python 3",
   "language": "python",
   "name": "python3"
  },
  "language_info": {
   "codemirror_mode": {
    "name": "ipython",
    "version": 3
   },
   "file_extension": ".py",
   "mimetype": "text/x-python",
   "name": "python",
   "nbconvert_exporter": "python",
   "pygments_lexer": "ipython3",
   "version": "3.10.1"
  }
 },
 "nbformat": 4,
 "nbformat_minor": 0
}
