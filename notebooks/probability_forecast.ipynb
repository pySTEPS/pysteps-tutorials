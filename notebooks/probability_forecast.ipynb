{
 "cells": [
  {
   "cell_type": "code",
   "execution_count": null,
   "metadata": {},
   "outputs": [],
   "source": [
    "%matplotlib inline"
   ]
  },
  {
   "cell_type": "markdown",
   "metadata": {},
   "source": [
    "\n",
    "# Probability forecasts\n",
    "\n",
    "This example script shows how to forecast the probability of exceeding an\n",
    "intensity threshold.\n",
    "\n",
    "The method is based on the local Lagrangian approach described in Germann and\n",
    "Zawadzki (2004).\n"
   ]
  },
  {
   "cell_type": "code",
   "execution_count": null,
   "metadata": {},
   "outputs": [],
   "source": [
    "import matplotlib.pyplot as plt\n",
    "import numpy as np\n",
    "\n",
    "from pysteps.nowcasts.lagrangian_probability import forecast\n",
    "from pysteps.visualization import plot_precip_field"
   ]
  },
  {
   "cell_type": "markdown",
   "metadata": {},
   "source": [
    "## Numerical example\n",
    "\n",
    "First, we use some dummy data to show the basic principle of this approach.\n",
    "The probability forecast is produced by sampling a spatial neighborhood that is\n",
    "increased as a function of lead time. As a result, the edges of\n",
    "the yellow square becomes more and more smooth as t increases. This represents\n",
    "the strong loss of predictability with lead time of any extrapolation nowcast.\n",
    "\n"
   ]
  },
  {
   "cell_type": "code",
   "execution_count": null,
   "metadata": {},
   "outputs": [],
   "source": [
    "# parameters\n",
    "precip = np.zeros((100, 100))\n",
    "precip[10:50, 10:50] = 1\n",
    "velocity = np.ones((2, *precip.shape))\n",
    "timesteps = [0, 2, 6, 12]\n",
    "thr = 0.5\n",
    "slope = 1  # pixels / timestep\n",
    "\n",
    "# compute probability forecast\n",
    "out = forecast(precip, velocity, timesteps, thr, slope=slope)\n",
    "# plot\n",
    "for n, frame in enumerate(out):\n",
    "    plt.subplot(2, 2, n + 1)\n",
    "    plt.imshow(frame, interpolation=\"nearest\", vmin=0, vmax=1)\n",
    "    plt.title(f\"t={timesteps[n]}\")\n",
    "    plt.xticks([])\n",
    "    plt.yticks([])\n",
    "plt.show()"
   ]
  },
  {
   "cell_type": "markdown",
   "metadata": {},
   "source": [
    "## Real-data example\n",
    "\n",
    "We now apply the same method to real data. We use a slope of 1 km / minute\n",
    "as suggested by  Germann and Zawadzki (2004), meaning that after 30 minutes,\n",
    "the probabilities are computed by using all pixels within a neighborhood of 30\n",
    "kilometers.\n",
    "\n"
   ]
  },
  {
   "cell_type": "code",
   "execution_count": null,
   "metadata": {},
   "outputs": [],
   "source": [
    "from datetime import datetime\n",
    "\n",
    "from pysteps import io, rcparams, utils\n",
    "from pysteps.motion.lucaskanade import dense_lucaskanade\n",
    "from pysteps.verification import reldiag_init, reldiag_accum, plot_reldiag\n",
    "\n",
    "# data source\n",
    "source = rcparams.data_sources[\"mch\"]\n",
    "root = rcparams.data_sources[\"mch\"][\"root_path\"]\n",
    "fmt = rcparams.data_sources[\"mch\"][\"path_fmt\"]\n",
    "pattern = rcparams.data_sources[\"mch\"][\"fn_pattern\"]\n",
    "ext = rcparams.data_sources[\"mch\"][\"fn_ext\"]\n",
    "timestep = rcparams.data_sources[\"mch\"][\"timestep\"]\n",
    "importer_name = rcparams.data_sources[\"mch\"][\"importer\"]\n",
    "importer_kwargs = rcparams.data_sources[\"mch\"][\"importer_kwargs\"]\n",
    "\n",
    "# read precip field\n",
    "date = datetime.strptime(\"201607112100\", \"%Y%m%d%H%M\")\n",
    "fns = io.find_by_date(date, root, fmt, pattern, ext, timestep, num_prev_files=2)\n",
    "importer = io.get_method(importer_name, \"importer\")\n",
    "precip, __, metadata = io.read_timeseries(fns, importer, **importer_kwargs)\n",
    "precip, metadata = utils.to_rainrate(precip, metadata)\n",
    "# precip[np.isnan(precip)] = 0\n",
    "\n",
    "# motion\n",
    "motion = dense_lucaskanade(precip)\n",
    "\n",
    "# parameters\n",
    "nleadtimes = 6\n",
    "thr = 1  # mm / h\n",
    "slope = 1 * timestep  # km / min\n",
    "\n",
    "# compute probability forecast\n",
    "extrap_kwargs = dict(allow_nonfinite_values=True)\n",
    "fct = forecast(\n",
    "    precip[-1], motion, nleadtimes, thr, slope=slope, extrap_kwargs=extrap_kwargs\n",
    ")\n",
    "\n",
    "# plot\n",
    "for n, frame in enumerate(fct):\n",
    "    plt.subplot(2, 3, n + 1)\n",
    "    plt.imshow(frame, interpolation=\"nearest\", vmin=0, vmax=1)\n",
    "    plt.xticks([])\n",
    "    plt.yticks([])\n",
    "plt.show()"
   ]
  },
  {
   "cell_type": "markdown",
   "metadata": {},
   "source": [
    "Let's plot one single leadtime in more detail using the pysteps visualization\n",
    "functionality.\n",
    "\n"
   ]
  },
  {
   "cell_type": "code",
   "execution_count": null,
   "metadata": {},
   "outputs": [],
   "source": [
    "plt.close()\n",
    "# Plot the field of probabilities\n",
    "plot_precip_field(\n",
    "    fct[2],\n",
    "    geodata=metadata,\n",
    "    ptype=\"prob\",\n",
    "    probthr=thr,\n",
    "    title=\"Exceedence probability (+ %i min)\" % (nleadtimes * timestep),\n",
    ")\n",
    "plt.show()"
   ]
  },
  {
   "cell_type": "markdown",
   "metadata": {},
   "source": [
    "## Verification\n",
    "\n"
   ]
  },
  {
   "cell_type": "code",
   "execution_count": null,
   "metadata": {},
   "outputs": [],
   "source": [
    "# verifying observations\n",
    "importer = io.get_method(importer_name, \"importer\")\n",
    "fns = io.find_by_date(\n",
    "    date, root, fmt, pattern, ext, timestep, num_next_files=nleadtimes\n",
    ")\n",
    "obs, __, metadata = io.read_timeseries(fns, importer, **importer_kwargs)\n",
    "obs, metadata = utils.to_rainrate(obs, metadata)\n",
    "obs[np.isnan(obs)] = 0\n",
    "\n",
    "# reliability diagram\n",
    "reldiag = reldiag_init(thr)\n",
    "reldiag_accum(reldiag, fct, obs[1:])\n",
    "fig, ax = plt.subplots()\n",
    "plot_reldiag(reldiag, ax)\n",
    "ax.set_title(\"Reliability diagram\")\n",
    "plt.show()"
   ]
  },
  {
   "cell_type": "markdown",
   "metadata": {},
   "source": [
    "## References\n",
    "Germann, U. and I. Zawadzki, 2004:\n",
    "Scale Dependence of the Predictability of Precipitation from Continental\n",
    "Radar Images. Part II: Probability Forecasts.\n",
    "Journal of Applied Meteorology, 43(1), 74-89.\n",
    "\n"
   ]
  },
  {
   "cell_type": "code",
   "execution_count": null,
   "metadata": {},
   "outputs": [],
   "source": [
    "# sphinx_gallery_thumbnail_number = 3"
   ]
  }
 ],
 "metadata": {
  "kernelspec": {
   "display_name": "Python 3",
   "language": "python",
   "name": "python3"
  },
  "language_info": {
   "codemirror_mode": {
    "name": "ipython",
    "version": 3
   },
   "file_extension": ".py",
   "mimetype": "text/x-python",
   "name": "python",
   "nbconvert_exporter": "python",
   "pygments_lexer": "ipython3",
   "version": "3.10.1"
  }
 },
 "nbformat": 4,
 "nbformat_minor": 0
}
