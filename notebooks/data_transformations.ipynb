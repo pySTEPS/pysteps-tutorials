{
 "cells": [
  {
   "cell_type": "code",
   "execution_count": null,
   "metadata": {},
   "outputs": [],
   "source": [
    "%matplotlib inline"
   ]
  },
  {
   "cell_type": "markdown",
   "metadata": {},
   "source": [
    "\n",
    "# Data transformations\n",
    "\n",
    "The statistics of intermittent precipitation rates are particularly non-Gaussian\n",
    "and display an asymmetric distribution bounded at zero.\n",
    "Such properties restrict the usage of well-established statistical methods that\n",
    "assume symmetric or Gaussian data.\n",
    "\n",
    "A common workaround is to introduce a suitable data transformation to approximate\n",
    "a normal distribution.\n",
    "\n",
    "In this example, we test the data transformation methods available in pysteps\n",
    "in order to obtain a more symmetric distribution of the precipitation data\n",
    "(excluding the zeros).\n",
    "The currently available transformations include the Box-Cox, dB, square-root and\n",
    "normal quantile transforms.\n"
   ]
  },
  {
   "cell_type": "code",
   "execution_count": null,
   "metadata": {},
   "outputs": [],
   "source": [
    "from datetime import datetime\n",
    "import matplotlib.pyplot as plt\n",
    "import numpy as np\n",
    "from pysteps import io, rcparams\n",
    "from pysteps.utils import conversion, transformation\n",
    "from scipy.stats import skew"
   ]
  },
  {
   "cell_type": "markdown",
   "metadata": {},
   "source": [
    "## Read the radar input images\n",
    "\n",
    "First, we will import the sequence of radar composites.\n",
    "You need the pysteps-data archive downloaded and the pystepsrc file\n",
    "configured with the data_source paths pointing to data folders.\n",
    "\n"
   ]
  },
  {
   "cell_type": "code",
   "execution_count": null,
   "metadata": {},
   "outputs": [],
   "source": [
    "# Selected case\n",
    "date = datetime.strptime(\"201609281600\", \"%Y%m%d%H%M\")\n",
    "data_source = rcparams.data_sources[\"fmi\"]"
   ]
  },
  {
   "cell_type": "markdown",
   "metadata": {},
   "source": [
    "### Load the data from the archive\n",
    "\n"
   ]
  },
  {
   "cell_type": "code",
   "execution_count": null,
   "metadata": {},
   "outputs": [],
   "source": [
    "root_path = data_source[\"root_path\"]\n",
    "path_fmt = data_source[\"path_fmt\"]\n",
    "fn_pattern = data_source[\"fn_pattern\"]\n",
    "fn_ext = data_source[\"fn_ext\"]\n",
    "importer_name = data_source[\"importer\"]\n",
    "importer_kwargs = data_source[\"importer_kwargs\"]\n",
    "timestep = data_source[\"timestep\"]\n",
    "\n",
    "# Get 1 hour of observations in the data archive\n",
    "fns = io.archive.find_by_date(\n",
    "    date, root_path, path_fmt, fn_pattern, fn_ext, timestep, num_next_files=11\n",
    ")\n",
    "\n",
    "# Read the radar composites\n",
    "importer = io.get_method(importer_name, \"importer\")\n",
    "Z, _, metadata = io.read_timeseries(fns, importer, **importer_kwargs)\n",
    "\n",
    "# Keep only positive rainfall values\n",
    "Z = Z[Z > metadata[\"zerovalue\"]].flatten()\n",
    "\n",
    "# Convert to rain rate\n",
    "R, metadata = conversion.to_rainrate(Z, metadata)"
   ]
  },
  {
   "cell_type": "markdown",
   "metadata": {},
   "source": [
    "## Test data transformations\n",
    "\n"
   ]
  },
  {
   "cell_type": "code",
   "execution_count": null,
   "metadata": {},
   "outputs": [],
   "source": [
    "# Define method to visualize the data distribution with boxplots and plot the\n",
    "# corresponding skewness\n",
    "def plot_distribution(data, labels, skw):\n",
    "\n",
    "    N = len(data)\n",
    "    fig, ax1 = plt.subplots()\n",
    "    ax2 = ax1.twinx()\n",
    "\n",
    "    ax2.plot(np.arange(N + 2), np.zeros(N + 2), \":r\")\n",
    "    ax1.boxplot(data, labels=labels, sym=\"\", medianprops={\"color\": \"k\"})\n",
    "\n",
    "    ymax = []\n",
    "    for i in range(N):\n",
    "        y = skw[i]\n",
    "        x = i + 1\n",
    "        ax2.plot(x, y, \"*r\", ms=10, markeredgecolor=\"k\")\n",
    "        ymax.append(np.max(data[i]))\n",
    "\n",
    "    # ylims\n",
    "    ylims = np.percentile(ymax, 50)\n",
    "    ax1.set_ylim((-1 * ylims, ylims))\n",
    "    ylims = np.max(np.abs(skw))\n",
    "    ax2.set_ylim((-1.1 * ylims, 1.1 * ylims))\n",
    "\n",
    "    # labels\n",
    "    ax1.set_ylabel(r\"Standardized values [$\\sigma$]\")\n",
    "    ax2.set_ylabel(r\"Skewness []\", color=\"r\")\n",
    "    ax2.tick_params(axis=\"y\", labelcolor=\"r\")"
   ]
  },
  {
   "cell_type": "markdown",
   "metadata": {},
   "source": [
    "### Box-Cox transform\n",
    "The Box-Cox transform is a well-known power transformation introduced by\n",
    "`Box and Cox (1964)`_. In its one-parameter version, the Box-Cox transform\n",
    "takes the form T(x) = ln(x) for lambda = 0, or T(x) = (x**lambda - 1)/lambda\n",
    "otherwise.\n",
    "\n",
    "To find a suitable lambda, we will experiment with a range of values\n",
    "and select the one that produces the most symmetric distribution, i.e., the\n",
    "lambda associated with a value of skewness closest to zero.\n",
    "To visually compare the results, the transformed data are standardized.\n",
    "\n",
    "\n"
   ]
  },
  {
   "cell_type": "code",
   "execution_count": null,
   "metadata": {},
   "outputs": [],
   "source": [
    "data = []\n",
    "labels = []\n",
    "skw = []\n",
    "\n",
    "# Test a range of values for the transformation parameter Lambda\n",
    "Lambdas = np.linspace(-0.4, 0.4, 11)\n",
    "for i, Lambda in enumerate(Lambdas):\n",
    "    R_, _ = transformation.boxcox_transform(R, metadata, Lambda)\n",
    "    R_ = (R_ - np.mean(R_)) / np.std(R_)\n",
    "    data.append(R_)\n",
    "    labels.append(\"{0:.2f}\".format(Lambda))\n",
    "    skw.append(skew(R_))  # skewness\n",
    "\n",
    "# Plot the transformed data distribution as a function of lambda\n",
    "plot_distribution(data, labels, skw)\n",
    "plt.title(\"Box-Cox transform\")\n",
    "plt.tight_layout()\n",
    "plt.show()\n",
    "\n",
    "# Best lambda\n",
    "idx_best = np.argmin(np.abs(skw))\n",
    "Lambda = Lambdas[idx_best]\n",
    "\n",
    "print(\"Best parameter lambda: %.2f\\n(skewness = %.2f)\" % (Lambda, skw[idx_best]))"
   ]
  },
  {
   "cell_type": "markdown",
   "metadata": {},
   "source": [
    "### Compare data transformations\n",
    "\n"
   ]
  },
  {
   "cell_type": "code",
   "execution_count": null,
   "metadata": {},
   "outputs": [],
   "source": [
    "data = []\n",
    "labels = []\n",
    "skw = []"
   ]
  },
  {
   "cell_type": "markdown",
   "metadata": {},
   "source": [
    "### Rain rates\n",
    "First, let's have a look at the original rain rate values.\n",
    "\n"
   ]
  },
  {
   "cell_type": "code",
   "execution_count": null,
   "metadata": {},
   "outputs": [],
   "source": [
    "data.append((R - np.mean(R)) / np.std(R))\n",
    "labels.append(\"R\")\n",
    "skw.append(skew(R))"
   ]
  },
  {
   "cell_type": "markdown",
   "metadata": {},
   "source": [
    "### dB transform\n",
    "We transform the rainfall data into dB units: 10*log(R)\n",
    "\n"
   ]
  },
  {
   "cell_type": "code",
   "execution_count": null,
   "metadata": {},
   "outputs": [],
   "source": [
    "R_, _ = transformation.dB_transform(R, metadata)\n",
    "data.append((R_ - np.mean(R_)) / np.std(R_))\n",
    "labels.append(\"dB\")\n",
    "skw.append(skew(R_))"
   ]
  },
  {
   "cell_type": "markdown",
   "metadata": {},
   "source": [
    "### Square-root transform\n",
    "Transform the data using the square-root: sqrt(R)\n",
    "\n"
   ]
  },
  {
   "cell_type": "code",
   "execution_count": null,
   "metadata": {},
   "outputs": [],
   "source": [
    "R_, _ = transformation.sqrt_transform(R, metadata)\n",
    "data.append((R_ - np.mean(R_)) / np.std(R_))\n",
    "labels.append(\"sqrt\")\n",
    "skw.append(skew(R_))"
   ]
  },
  {
   "cell_type": "markdown",
   "metadata": {},
   "source": [
    "### Box-Cox transform\n",
    "We now apply the Box-Cox transform using the best parameter lambda found above.\n",
    "\n"
   ]
  },
  {
   "cell_type": "code",
   "execution_count": null,
   "metadata": {},
   "outputs": [],
   "source": [
    "R_, _ = transformation.boxcox_transform(R, metadata, Lambda)\n",
    "data.append((R_ - np.mean(R_)) / np.std(R_))\n",
    "labels.append(\"Box-Cox\\n($\\lambda=$%.2f)\" % Lambda)\n",
    "skw.append(skew(R_))"
   ]
  },
  {
   "cell_type": "markdown",
   "metadata": {},
   "source": [
    "### Normal quantile transform\n",
    "At last, we apply the empirical normal quantile (NQ) transform as described in\n",
    "`Bogner et al (2012)`_.\n",
    "\n",
    "\n"
   ]
  },
  {
   "cell_type": "code",
   "execution_count": null,
   "metadata": {},
   "outputs": [],
   "source": [
    "R_, _ = transformation.NQ_transform(R, metadata)\n",
    "data.append((R_ - np.mean(R_)) / np.std(R_))\n",
    "labels.append(\"NQ\")\n",
    "skw.append(skew(R_))"
   ]
  },
  {
   "cell_type": "markdown",
   "metadata": {},
   "source": [
    "By plotting all the results, we can notice first of all the strongly asymmetric\n",
    "distribution of the original data (R) and that all transformations manage to\n",
    "reduce its skewness. Among these, the Box-Cox transform (using the best parameter\n",
    "lambda) and the normal quantile (NQ) transform provide the best correction.\n",
    "Despite not producing a perfectly symmetric distribution, the square-root (sqrt)\n",
    "transform has the strong advantage of being defined for zeros, too, while all\n",
    "other transformations need an arbitrary rule for non-positive values.\n",
    "\n"
   ]
  },
  {
   "cell_type": "code",
   "execution_count": null,
   "metadata": {},
   "outputs": [],
   "source": [
    "plot_distribution(data, labels, skw)\n",
    "plt.title(\"Data transforms\")\n",
    "plt.tight_layout()\n",
    "plt.show()"
   ]
  }
 ],
 "metadata": {
  "kernelspec": {
   "display_name": "Python 3",
   "language": "python",
   "name": "python3"
  },
  "language_info": {
   "codemirror_mode": {
    "name": "ipython",
    "version": 3
   },
   "file_extension": ".py",
   "mimetype": "text/x-python",
   "name": "python",
   "nbconvert_exporter": "python",
   "pygments_lexer": "ipython3",
   "version": "3.10.1"
  }
 },
 "nbformat": 4,
 "nbformat_minor": 0
}
