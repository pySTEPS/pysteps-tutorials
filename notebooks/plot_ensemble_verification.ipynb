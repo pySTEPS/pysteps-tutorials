{
 "cells": [
  {
   "cell_type": "code",
   "execution_count": null,
   "metadata": {},
   "outputs": [],
   "source": [
    "%matplotlib inline"
   ]
  },
  {
   "cell_type": "markdown",
   "metadata": {},
   "source": [
    "\n",
    "# Ensemble verification\n",
    "\n",
    "In this tutorial we perform a verification of a probabilistic extrapolation nowcast \n",
    "using MeteoSwiss radar data.\n"
   ]
  },
  {
   "cell_type": "code",
   "execution_count": null,
   "metadata": {},
   "outputs": [],
   "source": [
    "from datetime import datetime\n",
    "import matplotlib.pyplot as plt\n",
    "import numpy as np\n",
    "from pprint import pprint\n",
    "from pysteps import io, nowcasts, rcparams, verification\n",
    "from pysteps.motion.lucaskanade import dense_lucaskanade\n",
    "from pysteps.postprocessing import ensemblestats\n",
    "from pysteps.utils import conversion, dimension, transformation\n",
    "from pysteps.visualization import plot_precip_field"
   ]
  },
  {
   "cell_type": "markdown",
   "metadata": {},
   "source": [
    "## Read precipitation field\n",
    "\n",
    "First, we will import the sequence of MeteoSwiss (\"mch\") radar composites.\n",
    "You need the pysteps-data archive downloaded and the pystepsrc file\n",
    "configured with the data_source paths pointing to data folders.\n",
    "\n"
   ]
  },
  {
   "cell_type": "code",
   "execution_count": null,
   "metadata": {},
   "outputs": [],
   "source": [
    "# Selected case\n",
    "date = datetime.strptime(\"201607112100\", \"%Y%m%d%H%M\")\n",
    "data_source = rcparams.data_sources[\"mch\"]\n",
    "n_ens_members = 20\n",
    "n_leadtimes = 6\n",
    "seed = 24"
   ]
  },
  {
   "cell_type": "markdown",
   "metadata": {},
   "source": [
    "### Load the data from the archive\n",
    "\n",
    "The data are upscaled to 2 km resolution to limit the memory usage and thus\n",
    "be able to afford a larger number of ensemble members.\n",
    "\n"
   ]
  },
  {
   "cell_type": "code",
   "execution_count": null,
   "metadata": {},
   "outputs": [],
   "source": [
    "root_path = data_source[\"root_path\"]\n",
    "path_fmt = data_source[\"path_fmt\"]\n",
    "fn_pattern = data_source[\"fn_pattern\"]\n",
    "fn_ext = data_source[\"fn_ext\"]\n",
    "importer_name = data_source[\"importer\"]\n",
    "importer_kwargs = data_source[\"importer_kwargs\"]\n",
    "timestep = data_source[\"timestep\"]\n",
    "\n",
    "# Find the radar files in the archive\n",
    "fns = io.find_by_date(\n",
    "    date, root_path, path_fmt, fn_pattern, fn_ext, timestep, num_prev_files=2\n",
    ")\n",
    "\n",
    "# Read the data from the archive\n",
    "importer = io.get_method(importer_name, \"importer\")\n",
    "R, _, metadata = io.read_timeseries(fns, importer, **importer_kwargs)\n",
    "\n",
    "# Convert to rain rate\n",
    "R, metadata = conversion.to_rainrate(R, metadata)\n",
    "\n",
    "# Upscale data to 2 km\n",
    "R, metadata = dimension.aggregate_fields_space(R, metadata, 2000)\n",
    "\n",
    "# Plot the rainfall field\n",
    "plot_precip_field(R[-1, :, :], geodata=metadata)\n",
    "plt.show()\n",
    "\n",
    "# Log-transform the data to unit of dBR, set the threshold to 0.1 mm/h,\n",
    "# set the fill value to -15 dBR\n",
    "R, metadata = transformation.dB_transform(R, metadata, threshold=0.1, zerovalue=-15.0)\n",
    "\n",
    "# Set missing values with the fill value\n",
    "R[~np.isfinite(R)] = -15.0\n",
    "\n",
    "# Nicely print the metadata\n",
    "pprint(metadata)"
   ]
  },
  {
   "cell_type": "markdown",
   "metadata": {},
   "source": [
    "## Forecast\n",
    "\n",
    "We use the STEPS approach to produce a ensemble nowcast of precipitation fields.\n",
    "\n"
   ]
  },
  {
   "cell_type": "code",
   "execution_count": null,
   "metadata": {},
   "outputs": [],
   "source": [
    "# Estimate the motion field\n",
    "V = dense_lucaskanade(R)\n",
    "\n",
    "# Perform the ensemble nowcast with STEPS\n",
    "nowcast_method = nowcasts.get_method(\"steps\")\n",
    "R_f = nowcast_method(\n",
    "    R[-3:, :, :],\n",
    "    V,\n",
    "    n_leadtimes,\n",
    "    n_ens_members,\n",
    "    n_cascade_levels=6,\n",
    "    R_thr=-10.0,\n",
    "    kmperpixel=2.0,\n",
    "    timestep=timestep,\n",
    "    decomp_method=\"fft\",\n",
    "    bandpass_filter_method=\"gaussian\",\n",
    "    noise_method=\"nonparametric\",\n",
    "    vel_pert_method=\"bps\",\n",
    "    mask_method=\"incremental\",\n",
    "    seed=seed,\n",
    ")\n",
    "\n",
    "# Back-transform to rain rates\n",
    "R_f = transformation.dB_transform(R_f, threshold=-10.0, inverse=True)[0]\n",
    "\n",
    "# Plot some of the realizations\n",
    "fig = plt.figure()\n",
    "for i in range(4):\n",
    "    ax = fig.add_subplot(221 + i)\n",
    "    ax.set_title(\"Member %02d\" % i)\n",
    "    plot_precip_field(R_f[i, -1, :, :], geodata=metadata, colorbar=False, axis=\"off\")\n",
    "plt.tight_layout()\n",
    "plt.show()"
   ]
  },
  {
   "cell_type": "markdown",
   "metadata": {},
   "source": [
    "## Verification\n",
    "\n",
    "Pysteps includes a number of verification metrics to help users to analyze\n",
    "the general characteristics of the nowcasts in terms of consistency and\n",
    "quality (or goodness).\n",
    "Here, we will verify our probabilistic forecasts using the ROC curve,\n",
    "reliability diagrams, and rank histograms, as implemented in the verification\n",
    "module of pysteps.\n",
    "\n"
   ]
  },
  {
   "cell_type": "code",
   "execution_count": null,
   "metadata": {},
   "outputs": [],
   "source": [
    "# Find the files containing the verifying observations\n",
    "fns = io.archive.find_by_date(\n",
    "    date,\n",
    "    root_path,\n",
    "    path_fmt,\n",
    "    fn_pattern,\n",
    "    fn_ext,\n",
    "    timestep,\n",
    "    0,\n",
    "    num_next_files=n_leadtimes,\n",
    ")\n",
    "\n",
    "# Read the observations\n",
    "R_o, _, metadata_o = io.read_timeseries(fns, importer, **importer_kwargs)\n",
    "\n",
    "# Convert to mm/h\n",
    "R_o, metadata_o = conversion.to_rainrate(R_o, metadata_o)\n",
    "\n",
    "# Upscale data to 2 km\n",
    "R_o, metadata_o = dimension.aggregate_fields_space(R_o, metadata_o, 2000)\n",
    "\n",
    "# Compute the verification for the last lead time\n",
    "\n",
    "# compute the exceedance probability of 0.1 mm/h from the ensemble\n",
    "P_f = ensemblestats.excprob(R_f[:, -1, :, :], 0.1, ignore_nan=True)"
   ]
  },
  {
   "cell_type": "markdown",
   "metadata": {},
   "source": [
    "### ROC curve\n",
    "\n"
   ]
  },
  {
   "cell_type": "code",
   "execution_count": null,
   "metadata": {},
   "outputs": [],
   "source": [
    "roc = verification.ROC_curve_init(0.1, n_prob_thrs=10)\n",
    "verification.ROC_curve_accum(roc, P_f, R_o[-1, :, :])\n",
    "fig, ax = plt.subplots()\n",
    "verification.plot_ROC(roc, ax, opt_prob_thr=True)\n",
    "ax.set_title(\"ROC curve (+%i min)\" % (n_leadtimes * timestep))\n",
    "plt.show()"
   ]
  },
  {
   "cell_type": "markdown",
   "metadata": {},
   "source": [
    "### Reliability diagram\n",
    "\n"
   ]
  },
  {
   "cell_type": "code",
   "execution_count": null,
   "metadata": {},
   "outputs": [],
   "source": [
    "reldiag = verification.reldiag_init(0.1)\n",
    "verification.reldiag_accum(reldiag, P_f, R_o[-1, :, :])\n",
    "fig, ax = plt.subplots()\n",
    "verification.plot_reldiag(reldiag, ax)\n",
    "ax.set_title(\"Reliability diagram (+%i min)\" % (n_leadtimes * timestep))\n",
    "plt.show()"
   ]
  },
  {
   "cell_type": "markdown",
   "metadata": {},
   "source": [
    "### Rank histogram\n",
    "\n"
   ]
  },
  {
   "cell_type": "code",
   "execution_count": null,
   "metadata": {},
   "outputs": [],
   "source": [
    "rankhist = verification.rankhist_init(R_f.shape[0], 0.1)\n",
    "verification.rankhist_accum(rankhist, R_f[:, -1, :, :], R_o[-1, :, :])\n",
    "fig, ax = plt.subplots()\n",
    "verification.plot_rankhist(rankhist, ax)\n",
    "ax.set_title(\"Rank histogram (+%i min)\" % (n_leadtimes * timestep))\n",
    "plt.show()\n",
    "\n",
    "# sphinx_gallery_thumbnail_number = 5"
   ]
  }
 ],
 "metadata": {
  "kernelspec": {
   "display_name": "Python 3",
   "language": "python",
   "name": "python3"
  },
  "language_info": {
   "codemirror_mode": {
    "name": "ipython",
    "version": 3
   },
   "file_extension": ".py",
   "mimetype": "text/x-python",
   "name": "python",
   "nbconvert_exporter": "python",
   "pygments_lexer": "ipython3",
   "version": "3.10.1"
  }
 },
 "nbformat": 4,
 "nbformat_minor": 0
}
