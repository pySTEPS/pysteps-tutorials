{
 "cells": [
  {
   "cell_type": "code",
   "execution_count": null,
   "metadata": {},
   "outputs": [],
   "source": [
    "%matplotlib inline"
   ]
  },
  {
   "cell_type": "markdown",
   "metadata": {},
   "source": [
    "\n",
    "# Extrapolation nowcast\n",
    "\n",
    "This tutorial shows how to compute and plot an extrapolation nowcast using \n",
    "Finnish radar data.\n"
   ]
  },
  {
   "cell_type": "code",
   "execution_count": null,
   "metadata": {},
   "outputs": [],
   "source": [
    "from datetime import datetime\n",
    "import matplotlib.pyplot as plt\n",
    "import numpy as np\n",
    "from pprint import pprint\n",
    "from pysteps import io, motion, nowcasts, rcparams, verification\n",
    "from pysteps.utils import conversion, transformation\n",
    "from pysteps.visualization import plot_precip_field, quiver"
   ]
  },
  {
   "cell_type": "markdown",
   "metadata": {},
   "source": [
    "## Read the radar input images\n",
    "\n",
    "First, we will import the sequence of radar composites.\n",
    "You need the pysteps-data archive downloaded and the pystepsrc file\n",
    "configured with the data_source paths pointing to data folders.\n",
    "\n"
   ]
  },
  {
   "cell_type": "code",
   "execution_count": null,
   "metadata": {},
   "outputs": [],
   "source": [
    "# Selected case\n",
    "date = datetime.strptime(\"201609281600\", \"%Y%m%d%H%M\")\n",
    "data_source = rcparams.data_sources[\"fmi\"]\n",
    "n_leadtimes = 12"
   ]
  },
  {
   "cell_type": "markdown",
   "metadata": {},
   "source": [
    "### Load the data from the archive\n",
    "\n"
   ]
  },
  {
   "cell_type": "code",
   "execution_count": null,
   "metadata": {},
   "outputs": [],
   "source": [
    "root_path = data_source[\"root_path\"]\n",
    "path_fmt = data_source[\"path_fmt\"]\n",
    "fn_pattern = data_source[\"fn_pattern\"]\n",
    "fn_ext = data_source[\"fn_ext\"]\n",
    "importer_name = data_source[\"importer\"]\n",
    "importer_kwargs = data_source[\"importer_kwargs\"]\n",
    "timestep = data_source[\"timestep\"]\n",
    "\n",
    "# Find the input files from the archive\n",
    "fns = io.archive.find_by_date(\n",
    "    date, root_path, path_fmt, fn_pattern, fn_ext, timestep, num_prev_files=2\n",
    ")\n",
    "\n",
    "# Read the radar composites\n",
    "importer = io.get_method(importer_name, \"importer\")\n",
    "Z, _, metadata = io.read_timeseries(fns, importer, **importer_kwargs)\n",
    "\n",
    "# Convert to rain rate\n",
    "R, metadata = conversion.to_rainrate(Z, metadata)\n",
    "\n",
    "# Plot the rainfall field\n",
    "plot_precip_field(R[-1, :, :], geodata=metadata)\n",
    "plt.show()\n",
    "\n",
    "# Store the last frame for plotting it later later\n",
    "R_ = R[-1, :, :].copy()\n",
    "\n",
    "# Log-transform the data to unit of dBR, set the threshold to 0.1 mm/h,\n",
    "# set the fill value to -15 dBR\n",
    "R, metadata = transformation.dB_transform(R, metadata, threshold=0.1, zerovalue=-15.0)\n",
    "\n",
    "# Nicely print the metadata\n",
    "pprint(metadata)"
   ]
  },
  {
   "cell_type": "markdown",
   "metadata": {},
   "source": [
    "## Compute the nowcast\n",
    "\n",
    "The extrapolation nowcast is based on the estimation of the motion field,\n",
    "which is here performed using a local tracking approach (Lucas-Kanade).\n",
    "The most recent radar rainfall field is then simply advected along this motion\n",
    "field in oder to produce an extrapolation forecast.\n",
    "\n"
   ]
  },
  {
   "cell_type": "code",
   "execution_count": null,
   "metadata": {},
   "outputs": [],
   "source": [
    "# Estimate the motion field with Lucas-Kanade\n",
    "oflow_method = motion.get_method(\"LK\")\n",
    "V = oflow_method(R[-3:, :, :])\n",
    "\n",
    "# Extrapolate the last radar observation\n",
    "extrapolate = nowcasts.get_method(\"extrapolation\")\n",
    "R[~np.isfinite(R)] = metadata[\"zerovalue\"]\n",
    "R_f = extrapolate(R[-1, :, :], V, n_leadtimes)\n",
    "\n",
    "# Back-transform to rain rate\n",
    "R_f = transformation.dB_transform(R_f, threshold=-10.0, inverse=True)[0]\n",
    "\n",
    "# Plot the motion field\n",
    "plot_precip_field(R_, geodata=metadata)\n",
    "quiver(V, geodata=metadata, step=50)\n",
    "plt.show()"
   ]
  },
  {
   "cell_type": "markdown",
   "metadata": {},
   "source": [
    "## Verify with FSS\n",
    "\n",
    "The fractions skill score (FSS) provides an intuitive assessment of the\n",
    "dependency of skill on spatial scale and intensity, which makes it an ideal\n",
    "skill score for high-resolution precipitation forecasts.\n",
    "\n"
   ]
  },
  {
   "cell_type": "code",
   "execution_count": null,
   "metadata": {},
   "outputs": [],
   "source": [
    "# Find observations in the data archive\n",
    "fns = io.archive.find_by_date(\n",
    "    date,\n",
    "    root_path,\n",
    "    path_fmt,\n",
    "    fn_pattern,\n",
    "    fn_ext,\n",
    "    timestep,\n",
    "    num_prev_files=0,\n",
    "    num_next_files=n_leadtimes,\n",
    ")\n",
    "# Read the radar composites\n",
    "R_o, _, metadata_o = io.read_timeseries(fns, importer, **importer_kwargs)\n",
    "R_o, metadata_o = conversion.to_rainrate(R_o, metadata_o, 223.0, 1.53)\n",
    "\n",
    "# Compute fractions skill score (FSS) for all lead times, a set of scales and 1 mm/h\n",
    "fss = verification.get_method(\"FSS\")\n",
    "scales = [2, 4, 8, 16, 32, 64, 128, 256, 512]\n",
    "thr = 1.0\n",
    "score = []\n",
    "for i in range(n_leadtimes):\n",
    "    score_ = []\n",
    "    for scale in scales:\n",
    "        score_.append(fss(R_f[i, :, :], R_o[i + 1, :, :], thr, scale))\n",
    "    score.append(score_)\n",
    "\n",
    "plt.figure()\n",
    "x = np.arange(1, n_leadtimes + 1) * timestep\n",
    "plt.plot(x, score)\n",
    "plt.legend(scales, title=\"Scale [km]\")\n",
    "plt.xlabel(\"Lead time [min]\")\n",
    "plt.ylabel(\"FSS ( > 1.0 mm/h ) \")\n",
    "plt.title(\"Fractions skill score\")\n",
    "plt.show()\n",
    "\n",
    "# sphinx_gallery_thumbnail_number = 3"
   ]
  }
 ],
 "metadata": {
  "kernelspec": {
   "display_name": "Python 3",
   "language": "python",
   "name": "python3"
  },
  "language_info": {
   "codemirror_mode": {
    "name": "ipython",
    "version": 3
   },
   "file_extension": ".py",
   "mimetype": "text/x-python",
   "name": "python",
   "nbconvert_exporter": "python",
   "pygments_lexer": "ipython3",
   "version": "3.10.1"
  }
 },
 "nbformat": 4,
 "nbformat_minor": 0
}
