{
 "cells": [
  {
   "cell_type": "code",
   "execution_count": null,
   "metadata": {},
   "outputs": [],
   "source": [
    "%matplotlib inline"
   ]
  },
  {
   "cell_type": "markdown",
   "metadata": {},
   "source": [
    "\n",
    "# Advection correction\n",
    "\n",
    "This tutorial shows how to use the optical flow routines of pysteps to implement\n",
    "the advection correction procedure described in Anagnostou and Krajewski (1999).\n",
    "\n",
    "Advection correction is a temporal interpolation procedure that is often used\n",
    "when estimating rainfall accumulations to correct for the shift of rainfall patterns\n",
    "between consecutive radar rainfall maps. This shift becomes particularly \n",
    "significant for long radar scanning cycles and in presence of fast moving\n",
    "precipitation features.\n",
    "\n",
    "<div class=\"alert alert-info\"><h4>Note</h4><p>The code for the advection correction using pysteps was originally\n",
    "          written by `Daniel Wolfensberger <https://github.com/wolfidan>`_.</p></div>\n"
   ]
  },
  {
   "cell_type": "code",
   "execution_count": null,
   "metadata": {},
   "outputs": [],
   "source": [
    "from datetime import datetime\n",
    "import matplotlib.pyplot as plt\n",
    "import numpy as np\n",
    "\n",
    "from pysteps import io, motion, rcparams\n",
    "from pysteps.utils import conversion, dimension\n",
    "from pysteps.visualization import plot_precip_field\n",
    "from scipy.ndimage import map_coordinates"
   ]
  },
  {
   "cell_type": "markdown",
   "metadata": {},
   "source": [
    "## Read the radar input images\n",
    "\n",
    "First, we import a sequence of 36 images of 5-minute radar composites\n",
    "that we will use to produce a 3-hour rainfall accumulation map.\n",
    "We will keep only one frame every 10 minutes, to simulate a longer scanning\n",
    "cycle and thus better highlight the need for advection correction.\n",
    "\n",
    "You need the pysteps-data archive downloaded and the pystepsrc file\n",
    "configured with the data_source paths pointing to data folders.\n",
    "\n"
   ]
  },
  {
   "cell_type": "code",
   "execution_count": null,
   "metadata": {},
   "outputs": [],
   "source": [
    "# Selected case\n",
    "date = datetime.strptime(\"201607112100\", \"%Y%m%d%H%M\")\n",
    "data_source = rcparams.data_sources[\"mch\"]"
   ]
  },
  {
   "cell_type": "markdown",
   "metadata": {},
   "source": [
    "### Load the data from the archive\n",
    "\n"
   ]
  },
  {
   "cell_type": "code",
   "execution_count": null,
   "metadata": {},
   "outputs": [],
   "source": [
    "root_path = data_source[\"root_path\"]\n",
    "path_fmt = data_source[\"path_fmt\"]\n",
    "fn_pattern = data_source[\"fn_pattern\"]\n",
    "fn_ext = data_source[\"fn_ext\"]\n",
    "importer_name = data_source[\"importer\"]\n",
    "importer_kwargs = data_source[\"importer_kwargs\"]\n",
    "timestep = data_source[\"timestep\"]\n",
    "\n",
    "# Find the input files from the archive\n",
    "fns = io.archive.find_by_date(\n",
    "    date, root_path, path_fmt, fn_pattern, fn_ext, timestep=5, num_next_files=35\n",
    ")\n",
    "\n",
    "# Read the radar composites\n",
    "importer = io.get_method(importer_name, \"importer\")\n",
    "R, __, metadata = io.read_timeseries(fns, importer, **importer_kwargs)\n",
    "\n",
    "# Convert to mm/h\n",
    "R, metadata = conversion.to_rainrate(R, metadata)\n",
    "\n",
    "# Upscale to 2 km (simply to reduce the memory demand)\n",
    "R, metadata = dimension.aggregate_fields_space(R, metadata, 2000)\n",
    "\n",
    "# Keep only one frame every 10 minutes (i.e., every 2 timesteps)\n",
    "# (to highlight the need for advection correction)\n",
    "R = R[::2]"
   ]
  },
  {
   "cell_type": "markdown",
   "metadata": {},
   "source": [
    "## Advection correction\n",
    "\n",
    "Now we need to implement the advection correction for a pair of successive\n",
    "radar images. The procedure is based on the algorithm described in Anagnostou\n",
    "and Krajewski (Appendix A, 1999).\n",
    "\n",
    "To evaluate the advection occurred between two successive radar images, we are\n",
    "going to use the Lucas-Kanade optical flow routine available in pysteps.\n",
    "\n"
   ]
  },
  {
   "cell_type": "code",
   "execution_count": null,
   "metadata": {},
   "outputs": [],
   "source": [
    "def advection_correction(R, T=5, t=1):\n",
    "    \"\"\"\n",
    "    R = np.array([qpe_previous, qpe_current])\n",
    "    T = time between two observations (5 min)\n",
    "    t = interpolation timestep (1 min)\n",
    "    \"\"\"\n",
    "\n",
    "    # Evaluate advection\n",
    "    oflow_method = motion.get_method(\"LK\")\n",
    "    fd_kwargs = {\"buffer_mask\": 10}  # avoid edge effects\n",
    "    V = oflow_method(np.log(R), fd_kwargs=fd_kwargs)\n",
    "\n",
    "    # Perform temporal interpolation\n",
    "    Rd = np.zeros((R[0].shape))\n",
    "    x, y = np.meshgrid(\n",
    "        np.arange(R[0].shape[1], dtype=float), np.arange(R[0].shape[0], dtype=float)\n",
    "    )\n",
    "    for i in range(t, T + t, t):\n",
    "\n",
    "        pos1 = (y - i / T * V[1], x - i / T * V[0])\n",
    "        R1 = map_coordinates(R[0], pos1, order=1)\n",
    "\n",
    "        pos2 = (y + (T - i) / T * V[1], x + (T - i) / T * V[0])\n",
    "        R2 = map_coordinates(R[1], pos2, order=1)\n",
    "\n",
    "        Rd += (T - i) * R1 + i * R2\n",
    "\n",
    "    return t / T ** 2 * Rd"
   ]
  },
  {
   "cell_type": "markdown",
   "metadata": {},
   "source": [
    "Finally, we apply the advection correction to the whole sequence of radar\n",
    "images and produce the rainfall accumulation map.\n",
    "\n"
   ]
  },
  {
   "cell_type": "code",
   "execution_count": null,
   "metadata": {},
   "outputs": [],
   "source": [
    "R_ac = R[0].copy()\n",
    "for i in range(R.shape[0] - 1):\n",
    "    R_ac += advection_correction(R[i : (i + 2)], T=10, t=1)\n",
    "R_ac /= R.shape[0]"
   ]
  },
  {
   "cell_type": "markdown",
   "metadata": {},
   "source": [
    "## Results\n",
    "\n",
    "We compare the two accumulation maps. The first map on the left is\n",
    "computed without advection correction and we can therefore see that the shift\n",
    "between successive images 10 minutes apart produces irregular accumulations.\n",
    "Conversely, the rainfall accumulation of the right is produced using advection\n",
    "correction to account for this spatial shift. The final result is a smoother\n",
    "rainfall accumulation map.\n",
    "\n"
   ]
  },
  {
   "cell_type": "code",
   "execution_count": null,
   "metadata": {},
   "outputs": [],
   "source": [
    "plt.figure(figsize=(9, 4))\n",
    "plt.subplot(121)\n",
    "plot_precip_field(R.mean(axis=0), title=\"3-h rainfall accumulation\")\n",
    "plt.subplot(122)\n",
    "plot_precip_field(R_ac, title=\"Same with advection correction\")\n",
    "plt.tight_layout()\n",
    "plt.show()"
   ]
  },
  {
   "cell_type": "markdown",
   "metadata": {},
   "source": [
    "### Reference\n",
    "\n",
    "Anagnostou, E. N., and W. F. Krajewski. 1999. \"Real-Time Radar Rainfall\n",
    "Estimation. Part I: Algorithm Formulation.\" Journal of Atmospheric and\n",
    "Oceanic Technology 16: 189–97.\n",
    "https://doi.org/10.1175/1520-0426(1999)016<0189:RTRREP>2.0.CO;2\n",
    "\n"
   ]
  }
 ],
 "metadata": {
  "kernelspec": {
   "display_name": "Python 3",
   "language": "python",
   "name": "python3"
  },
  "language_info": {
   "codemirror_mode": {
    "name": "ipython",
    "version": 3
   },
   "file_extension": ".py",
   "mimetype": "text/x-python",
   "name": "python",
   "nbconvert_exporter": "python",
   "pygments_lexer": "ipython3",
   "version": "3.10.1"
  }
 },
 "nbformat": 4,
 "nbformat_minor": 0
}
