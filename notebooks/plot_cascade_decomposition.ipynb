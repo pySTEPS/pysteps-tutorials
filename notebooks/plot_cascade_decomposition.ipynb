{
 "cells": [
  {
   "cell_type": "code",
   "execution_count": null,
   "metadata": {},
   "outputs": [],
   "source": [
    "%matplotlib inline"
   ]
  },
  {
   "cell_type": "markdown",
   "metadata": {},
   "source": [
    "\n",
    "# Cascade decomposition\n",
    "\n",
    "This example script shows how to compute and plot the cascade decompositon of \n",
    "a single radar precipitation field in pysteps.\n"
   ]
  },
  {
   "cell_type": "code",
   "execution_count": null,
   "metadata": {},
   "outputs": [],
   "source": [
    "from matplotlib import cm, pyplot as plt\n",
    "import numpy as np\n",
    "import os\n",
    "from pprint import pprint\n",
    "from pysteps.cascade.bandpass_filters import filter_gaussian\n",
    "from pysteps import io, rcparams\n",
    "from pysteps.cascade.decomposition import decomposition_fft\n",
    "from pysteps.utils import conversion, transformation\n",
    "from pysteps.visualization import plot_precip_field"
   ]
  },
  {
   "cell_type": "markdown",
   "metadata": {},
   "source": [
    "## Read precipitation field\n",
    "\n",
    "First thing,  the radar composite is imported and transformed in units\n",
    "of dB.\n",
    "\n"
   ]
  },
  {
   "cell_type": "code",
   "execution_count": null,
   "metadata": {},
   "outputs": [],
   "source": [
    "# Import the example radar composite\n",
    "root_path = rcparams.data_sources[\"fmi\"][\"root_path\"]\n",
    "filename = os.path.join(\n",
    "    root_path, \"20160928\", \"201609281600_fmi.radar.composite.lowest_FIN_SUOMI1.pgm.gz\"\n",
    ")\n",
    "R, _, metadata = io.import_fmi_pgm(filename, gzipped=True)\n",
    "\n",
    "# Convert to rain rate\n",
    "R, metadata = conversion.to_rainrate(R, metadata)\n",
    "\n",
    "# Nicely print the metadata\n",
    "pprint(metadata)\n",
    "\n",
    "# Plot the rainfall field\n",
    "plot_precip_field(R, geodata=metadata)\n",
    "plt.show()\n",
    "\n",
    "# Log-transform the data\n",
    "R, metadata = transformation.dB_transform(R, metadata, threshold=0.1, zerovalue=-15.0)"
   ]
  },
  {
   "cell_type": "markdown",
   "metadata": {},
   "source": [
    "## 2D Fourier spectrum\n",
    "\n",
    "Compute and plot the 2D Fourier power spectrum of the precipitaton field.\n",
    "\n"
   ]
  },
  {
   "cell_type": "code",
   "execution_count": null,
   "metadata": {},
   "outputs": [],
   "source": [
    "# Set Nans as the fill value\n",
    "R[~np.isfinite(R)] = metadata[\"zerovalue\"]\n",
    "\n",
    "# Compute the Fourier transform of the input field\n",
    "F = abs(np.fft.fftshift(np.fft.fft2(R)))\n",
    "\n",
    "# Plot the power spectrum\n",
    "M, N = F.shape\n",
    "fig, ax = plt.subplots()\n",
    "im = ax.imshow(\n",
    "    np.log(F ** 2), vmin=4, vmax=24, cmap=cm.jet, extent=(-N / 2, N / 2, -M / 2, M / 2)\n",
    ")\n",
    "cb = fig.colorbar(im)\n",
    "ax.set_xlabel(\"Wavenumber $k_x$\")\n",
    "ax.set_ylabel(\"Wavenumber $k_y$\")\n",
    "ax.set_title(\"Log-power spectrum of R\")\n",
    "plt.show()"
   ]
  },
  {
   "cell_type": "markdown",
   "metadata": {},
   "source": [
    "## Cascade decomposition\n",
    "\n",
    "First, construct a set of Gaussian bandpass filters and plot the corresponding\n",
    "1D filters.\n",
    "\n"
   ]
  },
  {
   "cell_type": "code",
   "execution_count": null,
   "metadata": {},
   "outputs": [],
   "source": [
    "num_cascade_levels = 7\n",
    "\n",
    "# Construct the Gaussian bandpass filters\n",
    "filter = filter_gaussian(R.shape, num_cascade_levels)\n",
    "\n",
    "# Plot the bandpass filter weights\n",
    "L = max(N, M)\n",
    "fig, ax = plt.subplots()\n",
    "for k in range(num_cascade_levels):\n",
    "    ax.semilogx(\n",
    "        np.linspace(0, L / 2, len(filter[\"weights_1d\"][k, :])),\n",
    "        filter[\"weights_1d\"][k, :],\n",
    "        \"k-\",\n",
    "        base=pow(0.5 * L / 3, 1.0 / (num_cascade_levels - 2)),\n",
    "    )\n",
    "ax.set_xlim(1, L / 2)\n",
    "ax.set_ylim(0, 1)\n",
    "xt = np.hstack([[1.0], filter[\"central_wavenumbers\"][1:]])\n",
    "ax.set_xticks(xt)\n",
    "ax.set_xticklabels([\"%.2f\" % cf for cf in filter[\"central_wavenumbers\"]])\n",
    "ax.set_xlabel(\"Radial wavenumber $|\\mathbf{k}|$\")\n",
    "ax.set_ylabel(\"Normalized weight\")\n",
    "ax.set_title(\"Bandpass filter weights\")\n",
    "plt.show()"
   ]
  },
  {
   "cell_type": "markdown",
   "metadata": {},
   "source": [
    "Finally, apply the 2D Gaussian filters to decompose the radar rainfall field\n",
    "into a set of cascade levels of decreasing spatial scale and plot them.\n",
    "\n"
   ]
  },
  {
   "cell_type": "code",
   "execution_count": null,
   "metadata": {},
   "outputs": [],
   "source": [
    "decomp = decomposition_fft(R, filter, compute_stats=True)\n",
    "\n",
    "# Plot the normalized cascade levels\n",
    "for i in range(num_cascade_levels):\n",
    "    mu = decomp[\"means\"][i]\n",
    "    sigma = decomp[\"stds\"][i]\n",
    "    decomp[\"cascade_levels\"][i] = (decomp[\"cascade_levels\"][i] - mu) / sigma\n",
    "\n",
    "fig, ax = plt.subplots(nrows=2, ncols=4)\n",
    "\n",
    "ax[0, 0].imshow(R, cmap=cm.RdBu_r, vmin=-5, vmax=5)\n",
    "ax[0, 1].imshow(decomp[\"cascade_levels\"][0], cmap=cm.RdBu_r, vmin=-3, vmax=3)\n",
    "ax[0, 2].imshow(decomp[\"cascade_levels\"][1], cmap=cm.RdBu_r, vmin=-3, vmax=3)\n",
    "ax[0, 3].imshow(decomp[\"cascade_levels\"][2], cmap=cm.RdBu_r, vmin=-3, vmax=3)\n",
    "ax[1, 0].imshow(decomp[\"cascade_levels\"][3], cmap=cm.RdBu_r, vmin=-3, vmax=3)\n",
    "ax[1, 1].imshow(decomp[\"cascade_levels\"][4], cmap=cm.RdBu_r, vmin=-3, vmax=3)\n",
    "ax[1, 2].imshow(decomp[\"cascade_levels\"][5], cmap=cm.RdBu_r, vmin=-3, vmax=3)\n",
    "ax[1, 3].imshow(decomp[\"cascade_levels\"][6], cmap=cm.RdBu_r, vmin=-3, vmax=3)\n",
    "\n",
    "ax[0, 0].set_title(\"Observed\")\n",
    "ax[0, 1].set_title(\"Level 1\")\n",
    "ax[0, 2].set_title(\"Level 2\")\n",
    "ax[0, 3].set_title(\"Level 3\")\n",
    "ax[1, 0].set_title(\"Level 4\")\n",
    "ax[1, 1].set_title(\"Level 5\")\n",
    "ax[1, 2].set_title(\"Level 6\")\n",
    "ax[1, 3].set_title(\"Level 7\")\n",
    "\n",
    "for i in range(2):\n",
    "    for j in range(4):\n",
    "        ax[i, j].set_xticks([])\n",
    "        ax[i, j].set_yticks([])\n",
    "plt.tight_layout()\n",
    "plt.show()\n",
    "\n",
    "# sphinx_gallery_thumbnail_number = 4"
   ]
  }
 ],
 "metadata": {
  "kernelspec": {
   "display_name": "Python 3",
   "language": "python",
   "name": "python3"
  },
  "language_info": {
   "codemirror_mode": {
    "name": "ipython",
    "version": 3
   },
   "file_extension": ".py",
   "mimetype": "text/x-python",
   "name": "python",
   "nbconvert_exporter": "python",
   "pygments_lexer": "ipython3",
   "version": "3.10.1"
  }
 },
 "nbformat": 4,
 "nbformat_minor": 0
}
