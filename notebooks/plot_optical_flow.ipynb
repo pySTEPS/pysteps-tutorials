{
 "cells": [
  {
   "cell_type": "code",
   "execution_count": null,
   "metadata": {},
   "outputs": [],
   "source": [
    "%matplotlib inline"
   ]
  },
  {
   "cell_type": "markdown",
   "metadata": {},
   "source": [
    "\n",
    "# Optical flow\n",
    "\n",
    "This tutorial offers a short overview of the optical flow routines available in \n",
    "pysteps and it will cover how to compute and plot the motion field from a \n",
    "sequence of radar images.\n"
   ]
  },
  {
   "cell_type": "code",
   "execution_count": null,
   "metadata": {},
   "outputs": [],
   "source": [
    "from datetime import datetime\n",
    "from pprint import pprint\n",
    "import matplotlib.pyplot as plt\n",
    "import numpy as np\n",
    "\n",
    "from pysteps import io, motion, rcparams\n",
    "from pysteps.utils import conversion, transformation\n",
    "from pysteps.visualization import plot_precip_field, quiver"
   ]
  },
  {
   "cell_type": "markdown",
   "metadata": {},
   "source": [
    "## Read the radar input images\n",
    "\n",
    "First, we will import the sequence of radar composites.\n",
    "You need the pysteps-data archive downloaded and the pystepsrc file\n",
    "configured with the data_source paths pointing to data folders.\n",
    "\n"
   ]
  },
  {
   "cell_type": "code",
   "execution_count": null,
   "metadata": {},
   "outputs": [],
   "source": [
    "# Selected case\n",
    "date = datetime.strptime(\"201505151630\", \"%Y%m%d%H%M\")\n",
    "data_source = rcparams.data_sources[\"mch\"]"
   ]
  },
  {
   "cell_type": "markdown",
   "metadata": {},
   "source": [
    "### Load the data from the archive\n",
    "\n"
   ]
  },
  {
   "cell_type": "code",
   "execution_count": null,
   "metadata": {},
   "outputs": [],
   "source": [
    "root_path = data_source[\"root_path\"]\n",
    "path_fmt = data_source[\"path_fmt\"]\n",
    "fn_pattern = data_source[\"fn_pattern\"]\n",
    "fn_ext = data_source[\"fn_ext\"]\n",
    "importer_name = data_source[\"importer\"]\n",
    "importer_kwargs = data_source[\"importer_kwargs\"]\n",
    "timestep = data_source[\"timestep\"]\n",
    "\n",
    "# Find the input files from the archive\n",
    "fns = io.archive.find_by_date(\n",
    "    date, root_path, path_fmt, fn_pattern, fn_ext, timestep=5, num_prev_files=9\n",
    ")\n",
    "\n",
    "# Read the radar composites\n",
    "importer = io.get_method(importer_name, \"importer\")\n",
    "R, quality, metadata = io.read_timeseries(fns, importer, **importer_kwargs)\n",
    "\n",
    "del quality  # Not used"
   ]
  },
  {
   "cell_type": "markdown",
   "metadata": {},
   "source": [
    "### Preprocess the data\n",
    "\n"
   ]
  },
  {
   "cell_type": "code",
   "execution_count": null,
   "metadata": {},
   "outputs": [],
   "source": [
    "# Convert to mm/h\n",
    "R, metadata = conversion.to_rainrate(R, metadata)\n",
    "\n",
    "# Store the reference frame\n",
    "R_ = R[-1, :, :].copy()\n",
    "\n",
    "# Log-transform the data [dBR]\n",
    "R, metadata = transformation.dB_transform(R, metadata, threshold=0.1, zerovalue=-15.0)\n",
    "\n",
    "# Nicely print the metadata\n",
    "pprint(metadata)"
   ]
  },
  {
   "cell_type": "markdown",
   "metadata": {},
   "source": [
    "## Lucas-Kanade (LK)\n",
    "\n",
    "The Lucas-Kanade optical flow method implemented in pysteps is a local\n",
    "tracking approach that relies on the OpenCV package.\n",
    "Local features are tracked in a sequence of two or more radar images. The\n",
    "scheme includes a final interpolation step in order to produce a smooth\n",
    "field of motion vectors.\n",
    "\n"
   ]
  },
  {
   "cell_type": "code",
   "execution_count": null,
   "metadata": {},
   "outputs": [],
   "source": [
    "oflow_method = motion.get_method(\"LK\")\n",
    "V1 = oflow_method(R[-3:, :, :])\n",
    "\n",
    "# Plot the motion field on top of the reference frame\n",
    "plot_precip_field(R_, geodata=metadata, title=\"LK\")\n",
    "quiver(V1, geodata=metadata, step=25)\n",
    "plt.show()"
   ]
  },
  {
   "cell_type": "markdown",
   "metadata": {},
   "source": [
    "## Variational echo tracking (VET)\n",
    "\n",
    "This module implements the VET algorithm presented\n",
    "by Laroche and Zawadzki (1995) and used in the McGill Algorithm for\n",
    "Prediction by Lagrangian Extrapolation (MAPLE) described in\n",
    "Germann and Zawadzki (2002).\n",
    "The approach essentially consists of a global optimization routine that seeks\n",
    "at minimizing a cost function between the displaced and the reference image.\n",
    "\n"
   ]
  },
  {
   "cell_type": "code",
   "execution_count": null,
   "metadata": {},
   "outputs": [],
   "source": [
    "oflow_method = motion.get_method(\"VET\")\n",
    "V2 = oflow_method(R[-3:, :, :])\n",
    "\n",
    "# Plot the motion field\n",
    "plot_precip_field(R_, geodata=metadata, title=\"VET\")\n",
    "quiver(V2, geodata=metadata, step=25)\n",
    "plt.show()"
   ]
  },
  {
   "cell_type": "markdown",
   "metadata": {},
   "source": [
    "## Dynamic and adaptive radar tracking of storms (DARTS)\n",
    "\n",
    "DARTS uses a spectral approach to optical flow that is based on the discrete\n",
    "Fourier transform (DFT) of a temporal sequence of radar fields.\n",
    "The level of truncation of the DFT coefficients controls the degree of\n",
    "smoothness of the estimated motion field, allowing for an efficient\n",
    "motion estimation. DARTS requires a longer sequence of radar fields for\n",
    "estimating the motion, here we are going to use all the available 10 fields.\n",
    "\n"
   ]
  },
  {
   "cell_type": "code",
   "execution_count": null,
   "metadata": {},
   "outputs": [],
   "source": [
    "oflow_method = motion.get_method(\"DARTS\")\n",
    "R[~np.isfinite(R)] = metadata[\"zerovalue\"]\n",
    "V3 = oflow_method(R)  # needs longer training sequence\n",
    "\n",
    "# Plot the motion field\n",
    "plot_precip_field(R_, geodata=metadata, title=\"DARTS\")\n",
    "quiver(V3, geodata=metadata, step=25)\n",
    "plt.show()"
   ]
  },
  {
   "cell_type": "markdown",
   "metadata": {},
   "source": [
    "## Anisotropic diffusion method (Proesmans et al 1994)\n",
    "\n",
    "This module implements the anisotropic diffusion method presented in Proesmans\n",
    "et al. (1994), a robust optical flow technique which employs the notion of\n",
    "inconsitency during the solution of the optical flow equations.\n",
    "\n"
   ]
  },
  {
   "cell_type": "code",
   "execution_count": null,
   "metadata": {},
   "outputs": [],
   "source": [
    "oflow_method = motion.get_method(\"proesmans\")\n",
    "R[~np.isfinite(R)] = metadata[\"zerovalue\"]\n",
    "V4 = oflow_method(R[-2:, :, :])\n",
    "\n",
    "# Plot the motion field\n",
    "plot_precip_field(R_, geodata=metadata, title=\"Proesmans\")\n",
    "quiver(V4, geodata=metadata, step=25)\n",
    "plt.show()\n",
    "\n",
    "# sphinx_gallery_thumbnail_number = 1"
   ]
  }
 ],
 "metadata": {
  "kernelspec": {
   "display_name": "Python 3",
   "language": "python",
   "name": "python3"
  },
  "language_info": {
   "codemirror_mode": {
    "name": "ipython",
    "version": 3
   },
   "file_extension": ".py",
   "mimetype": "text/x-python",
   "name": "python",
   "nbconvert_exporter": "python",
   "pygments_lexer": "ipython3",
   "version": "3.10.1"
  }
 },
 "nbformat": 4,
 "nbformat_minor": 0
}
